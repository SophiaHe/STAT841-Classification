{
 "cells": [
  {
   "cell_type": "code",
   "execution_count": 1,
   "metadata": {
    "collapsed": true
   },
   "outputs": [],
   "source": [
    "from numpy import *\n",
    "\n",
    "def DSThreshold(dataMat, dimen, threshVal, ineq):\n",
    "    retArr = ones((dataMat.shape[0], 1))\n",
    "    if ineq == 'lt':\n",
    "        retArr[dataMat[:, dimen] <= threshVal] = -1.0\n",
    "    else:\n",
    "        retArr[dataMat[:, dimen] > threshVal] = -1.0\n",
    "    return retArr\n",
    "\n",
    "def DS(data, classLabels, D):\n",
    "    dataMat = mat(data) \n",
    "    labelMat = mat(classLabels).T\n",
    "    m, n = dataMat.shape\n",
    "    numSteps = 10.0\n",
    "    bestStump = {} \n",
    "    bestClassEst = mat(zeros((m, 1)))\n",
    "    minError = inf\n",
    "    \n",
    "    for i in range(n):\n",
    "        rangeMin = min(dataMat[:, i]); rangeMax = max(dataMat[:, i])\n",
    "        stepSize = (rangeMax - rangeMin) / numSteps\n",
    "\n",
    "        for j in range(-1, int(numSteps)+1):\n",
    "            for inequal in ['lt', 'gt']:\n",
    "                threshVal = rangeMin + float(j) * stepSize\n",
    "                predicatedVal = DSThreshold(dataMat, i, threshVal, inequal)\n",
    "                errArr = mat(ones((m, 1)))\n",
    "                \n",
    "                errArr[predicatedVal == labelMat] = 0\n",
    "                weightedError = D.T * errArr\n",
    "\n",
    "                if weightedError < minError:\n",
    "                    minError = weightedError\n",
    "                    bestClassEst = predicatedVal.copy()\n",
    "                    bestStump['dim'] = i\n",
    "                    bestStump['thresh'] = threshVal\n",
    "                    bestStump['ineq'] = inequal\n",
    "                    \n",
    "    return bestStump, minError, bestClassEst   \n",
    "\n",
    "\n",
    "def AdaBoostDS(data, classLabels, numIter = 50):\n",
    "    bestStumpArr = []\n",
    "    m = data.shape[0]\n",
    "    D = mat(ones((m,1))/m)\n",
    "    aggClassEst = mat(zeros((m,1)))\n",
    "    for i in range(numIter):\n",
    "        bestStump, error, bestClassEst = DS(data, classLabels, D)\n",
    "#        print('D:', D.T)\n",
    "        alpha = float(0.5 * log((1.0 - error)/max(error, 1e-16)))\n",
    "        bestStump['alpha'] = alpha\n",
    "        bestStumpArr.append(bestStump)\n",
    "#        print('ClassEst:', bestClassEst.T)\n",
    "        \n",
    "        # multiply(): element-wise product. class real result X estimation\n",
    "        expon = multiply(-1 * alpha * mat(classLabels).T, bestClassEst)\n",
    "        #exp(expon): calculate exp for each element in mat expon\n",
    "        D = multiply(D, exp(expon)) / sum(D)\n",
    "        \n",
    "        # aggClassEst is float matrix.\n",
    "        aggClassEst += alpha * bestClassEst\n",
    "#        print('aggClassEst:', aggClassEst)\n",
    "        \n",
    "        # aggClassEst is float matrix, use its sign to compare with mat classLabels\n",
    "        aggError = multiply(sign(aggClassEst) != mat(classLabels).T, ones((m,1)))\n",
    "        errorRate = sum(aggError)/m\n",
    "#        print('total error:', errorRate)\n",
    "        \n",
    "        if errorRate == 0.0:\n",
    "            break\n",
    "        \n",
    "    return bestStumpArr\n",
    "\n",
    "# loop through\n",
    "def AdaBoostClassify(dataToClass, classifierArr):\n",
    "    dataMat = mat(dataToClass)\n",
    "    m = dataMat.shape[0]\n",
    "    aggClassEst = mat(zeros((m, 1)))\n",
    "    for i in range(len(classifierArr)):\n",
    "        classEst = DSThreshold(dataMat, classifierArr[i]['dim'], classifierArr[i]['thresh'], classifierArr[i]['ineq'])\n",
    "        aggClassEst += classifierArr[i]['alpha'] * classEst\n",
    "#        print(aggClassEst)\n",
    "    return sign(aggClassEst)\n",
    "\n",
    "# calculate training and testing error\n",
    "def ErrorCalculation(trainX, trainY, testX, testY):\n",
    "    y_pred_train = AdaBoostClassify(dataToClass = trainX, classifierArr=adaboost_cls)\n",
    "    training_error = sum(y_pred_train.flatten() != trainY)/len(trainY)\n",
    "    \n",
    "    y_pred_test = AdaBoostClassify(dataToClass = testX, classifierArr=adaboost_cls)\n",
    "    testing_error = sum(y_pred_test.flatten() != testY)/len(testY)\n",
    "    return training_error, testing_error"
   ]
  },
  {
   "cell_type": "code",
   "execution_count": 2,
   "metadata": {
    "collapsed": true
   },
   "outputs": [],
   "source": [
    "# Question 2\n",
    "# generate training dataset\n",
    "df3_train_X = random.standard_normal(20000)\n",
    "df3_train_X = df3_train_X.reshape(2000,10)\n",
    "rm1 =sum(df3_train_X**2, axis=1)\n",
    "\n",
    "df3_train_Y = zeros(2000)\n",
    "for i in range(0,2000):\n",
    "    if rm1[i] >= 9.34:\n",
    "        df3_train_Y[i] = 1\n",
    "    else:\n",
    "        df3_train_Y[i] = -1\n",
    "\n",
    "# generate testing dataset\n",
    "df3_test_X = random.standard_normal(100000)\n",
    "df3_test_X = df3_test_X.reshape(10000,10)\n",
    "rm2 =sum(df3_test_X**2, axis=1)\n",
    "\n",
    "df3_test_Y = zeros(10000)\n",
    "for i in range(0,10000):\n",
    "    if rm2[i] >= 9.34:\n",
    "        df3_test_Y[i] = 1\n",
    "    else:\n",
    "        df3_test_Y[i] = -1"
   ]
  },
  {
   "cell_type": "code",
   "execution_count": 3,
   "metadata": {
    "collapsed": true
   },
   "outputs": [],
   "source": [
    "results_train_E = []\n",
    "results_test_E = []\n",
    "for i in range(1,7000, 800):\n",
    "    adaboost_cls = AdaBoostDS(data = df3_train_X, classLabels=df3_train_Y, numIter = i)\n",
    "    results_train_E.append(ErrorCalculation(trainX = df3_train_X, trainY = df3_train_Y, testX = df3_test_X, testY = df3_test_Y)[0])\n",
    "    results_test_E.append(ErrorCalculation(trainX = df3_train_X, trainY = df3_train_Y, testX = df3_test_X, testY = df3_test_Y)[1])\n"
   ]
  },
  {
   "cell_type": "code",
   "execution_count": 7,
   "metadata": {},
   "outputs": [
    {
     "data": {
      "image/png": "[encoded data removed]",
      "text/plain": [
       "<matplotlib.figure.Figure at 0x7f059656e320>"
      ]
     },
     "metadata": {},
     "output_type": "display_data"
    }
   ],
   "source": [
    "import matplotlib.pyplot as plt\n",
    "plt.plot(range(1,7000, 800), results_train_E, 'r--')\n",
    "plt.axis([1, 7000, 0, 0.5])\n",
    "\n",
    "# error curves\n",
    "plt.plot(range(1,7000, 800), results_test_E, 'r--', color='green')\n",
    "plt.axis([1, 7000, 0, 0.5])\n",
    "plt.legend(['Training Error', 'Testing Error'], loc='upper left')\n",
    "plt.title('Training & Testing Error vs. Number of Iterations')\n",
    "plt.xlabel('Number of Iterations')\n",
    "plt.ylabel('Error Rate')\n",
    "plt.show()\n"
   ]
  },
  {
   "cell_type": "code",
   "execution_count": null,
   "metadata": {
    "collapsed": true
   },
   "outputs": [],
   "source": [
    "# The testing error continue to decrease for as long as I can run and wait for\n",
    "# the algorithm to finish. I did not notice any significant increase after\n",
    "# many trails with increasing number of iterations. As you can see for a\n",
    "# example below, which indicates that the testing error is still decreasing"
   ]
  },
  {
   "cell_type": "code",
   "execution_count": 12,
   "metadata": {},
   "outputs": [
    {
     "name": "stdout",
     "output_type": "stream",
     "text": [
      "Testing error for iterations = 6000 is 0.1029\n",
      "Training error for iterations = 6000 is 0.0895\n"
     ]
    }
   ],
   "source": [
    "# Try interations = 6000\n",
    "adaboost_cls = adaBoostDS(dataArr = df3_train_X, classLabels=df3_train_Y, numIter = 6000)\n",
    "print(\"Testing error for iterations = 6000 is\",ErrorCalculation(trainX = df3_train_X, trainY = df3_train_Y, testX = df3_test_X, testY = df3_test_Y)[1])\n",
    "\n",
    "print(\"Training error for iterations = 6000 is\",ErrorCalculation(trainX = df3_train_X, trainY = df3_train_Y, testX = df3_test_X, testY = df3_test_Y)[0])"
   ]
  }
 ],
 "metadata": {
  "kernelspec": {
   "display_name": "Python 3",
   "language": "python",
   "name": "python3"
  },
  "language_info": {
   "codemirror_mode": {
    "name": "ipython",
    "version": 3
   },
   "file_extension": ".py",
   "mimetype": "text/x-python",
   "name": "python",
   "nbconvert_exporter": "python",
   "pygments_lexer": "ipython3",
   "version": "3.5.2"
  }
 },
 "nbformat": 4,
 "nbformat_minor": 2
}
