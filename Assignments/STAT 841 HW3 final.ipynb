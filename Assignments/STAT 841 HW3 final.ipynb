{
 "cells": [
  {
   "cell_type": "code",
   "execution_count": 1,
   "metadata": {
    "collapsed": true
   },
   "outputs": [],
   "source": [
    "# Question 1 Part a & b"
   ]
  },
  {
   "cell_type": "code",
   "execution_count": 29,
   "metadata": {
    "collapsed": true
   },
   "outputs": [],
   "source": [
    "# Question 1 \n",
    "from scipy.io import loadmat\n",
    "import pandas as pd\n",
    "import numpy as np\n",
    "import math as math\n",
    "import random as random\n",
    "from sklearn import linear_model\n",
    "from sklearn.cluster import KMeans\n",
    "\n",
    "# Load data\n",
    "dfX = loadmat('ion.mat')['X'].T\n",
    "dfY = loadmat('ion.mat')['y']\n",
    "\n",
    "trainX = loadmat('Ion.trin.mat')['Xtrain'].T\n",
    "trainY = loadmat('Ion.trin.mat')['ytrain']\n",
    "\n",
    "\n",
    "testX = loadmat('Ion.test.mat')['Xtest'].T\n",
    "testY = loadmat('Ion.test.mat')['ytest']\n",
    "\n",
    "#training = np.concatenate((trainX, trainY),axis =1 )\n",
    "#tesing = np.concatenate((testX,testY),axis= 1)\n",
    "#\n",
    "#random.seed(2017)\n",
    "#np.random.shuffle(training)\n",
    "\n",
    "\n",
    "#trainX = training[:,0:33] \n",
    "#trainY=training[:,-1].reshape(176,1)\n",
    "\n",
    "# Q1 Part a\n",
    "# NN\n",
    "def sigmoid(x):\n",
    "    return 1/(1 + np.exp(-x))\n",
    "\n",
    "#Derivative of Sigmoid Function\n",
    "def derivatives_sigmoid(x):\n",
    "    return x * (1 - x)\n",
    "\n",
    "random.seed(2017)\n",
    "trainX = trainX[:,0:33]\n",
    "\n",
    "                \n",
    "def NN2(x, y, n, epoch,lr, l2_reg):\n",
    "    # Initialize Necessary Weights\n",
    "    u = np.random.uniform(-0.5, 0.5, (33, n))\n",
    "    v = np.random.uniform(-0.5, 0.6, (n,))\n",
    "    for epoch in range(epoch):\n",
    "        for i in range(len(trainX)):\n",
    "            # Setup Data\n",
    "            y = trainY[i]\n",
    "\n",
    "            # feedforward for each observation/row in X\n",
    "            a_j = np.dot(trainX[i].reshape(1,33), u) # a_j[j] is 1 by n vector: linear comb output in hidden layer based on X[j]= n values\n",
    "            z_j = sigmoid(a_j) # z_j[j] is 1 by n vector: sigmoid transformation output in hidden layer based on X[j]\n",
    "            a_k = np.dot(z_j.reshape(1,n), v) # a_k[j] is 1 by 1 value in output layer\n",
    "            z_k = sigmoid(a_k).flatten()[0] # z_k[j] is 1 by 1 value in output layer   \n",
    "               \n",
    "            # backpropagation\n",
    "            v = v.reshape(1,n) + (2 * lr *(y - z_k) * (z_k * (1-z_k))) * z_j - (lr * (l2_reg * v)).reshape(1,n)\n",
    "            v = v.reshape(n,1)\n",
    "            \n",
    "            a = ((2 * lr *(y - z_k) * (z_k * (1-z_k)))) # 4 by 1\n",
    "            b = trainX[i].reshape(33,1) @ (a * z_j.reshape(n,1) * v * (z_j *(1-z_j)).reshape(n,1)).reshape(1,n)\n",
    "            u = u + b - (lr * (l2_reg * u))\n",
    "    return(u,v)\n",
    "\n",
    "\n",
    "# Q1 part b\n",
    "#weight = NN2(trainX, trainY, n = 4, epoch = 150, lr = 0.01, l2_reg = 0.0001)\n",
    "\n",
    "\n",
    "def NN_epoch(n,epoch, lr, l2_reg):\n",
    "    weight = NN2(trainX, trainY, n = n, epoch = epoch, lr = lr, l2_reg = l2_reg)\n",
    "\n",
    "    # training accuracy & error\n",
    "    y_hat_train = np.zeros(len(trainX))\n",
    "    prediction_training = np.zeros(len(trainX))\n",
    "    \n",
    "    for i in range(len(trainX)):\n",
    "        # Setup Data\n",
    "        x = trainX[i]\n",
    "    \n",
    "        a_j = np.dot(x.reshape(1,33), weight[0]) # a_j[j] is 1 by 4 vector: linear comb output in hidden layer based on X[j]= 4 values\n",
    "        z_j = sigmoid(a_j) # z_j[j] is 1 by 4 vector: sigmoid transformation output in hidden layer based on X[j]\n",
    "        a_k = np.dot(z_j.reshape(1,n), weight[1]) # a_k[j] is 1 by 1 value in output layer\n",
    "        z_k = sigmoid(a_k)\n",
    "        y_hat_train[i] = z_k.flatten()[0]\n",
    "        \n",
    "        \n",
    "        if y_hat_train[i]  >= 0.50:\n",
    "            prediction_training[i] = 1\n",
    "        else:\n",
    "            prediction_training[i] = 0\n",
    "    \n",
    "    y_hat_test = np.zeros(len(testX))\n",
    "    prediction_testing = np.zeros(len(testX))\n",
    "\n",
    "    for i in range(len(testX)):\n",
    "        # Setup Data\n",
    "        x = testX[i]\n",
    "     \n",
    "        a_j1 = np.dot(x.reshape(1,33), weight[0]) # a_j[j] is 1 by 4 vector: linear comb output in hidden layer based on X[j]= 4 values\n",
    "        z_j1 = sigmoid(a_j1) # z_j[j] is 1 by 4 vector: sigmoid transformation output in hidden layer based on X[j]\n",
    "        a_k1 = np.dot(z_j1.reshape(1,n), weight[1]) # a_k[j] is 1 by 1 value in output layer\n",
    "        z_k1 = sigmoid(a_k1)\n",
    "        y_hat_test[i] = z_k1.flatten()[0]\n",
    "        \n",
    "        \n",
    "        if y_hat_test[i]  >= 0.50:\n",
    "            prediction_testing[i] = 1\n",
    "        else:\n",
    "            prediction_testing[i] = 0\n",
    "    test_E = 1 - ((np.sum(prediction_testing == np.ravel(testY)))/ len(prediction_testing))\n",
    "    train_E = 1 - ((np.sum(prediction_training == np.ravel(trainY)))/ len(prediction_training))\n",
    "    return (train_E,test_E, prediction_testing)"
   ]
  },
  {
   "cell_type": "code",
   "execution_count": 25,
   "metadata": {
    "collapsed": true
   },
   "outputs": [],
   "source": [
    "results4_train_E = []\n",
    "results4_test_E = []\n",
    "for i in range(50, 900, 50):\n",
    "    results4_train_E.append(NN_epoch(n = 4, epoch = i, lr = 0.01, l2_reg = 0.000001)[0])\n",
    "    results4_test_E.append(NN_epoch(n = 4, epoch = i, lr = 0.01, l2_reg = 0.000001)[1])"
   ]
  },
  {
   "cell_type": "code",
   "execution_count": 26,
   "metadata": {},
   "outputs": [
    {
     "data": {
      "image/png": "[encoded data removed]",
      "text/plain": [
       "<matplotlib.figure.Figure at 0x7f6b87e45668>"
      ]
     },
     "metadata": {},
     "output_type": "display_data"
    }
   ],
   "source": [
    "# for n = 4, epoch = 50:900, lr = 0.01, l2_reg = 0.000001\n",
    "import matplotlib.pyplot as plt\n",
    "plt.plot(range(50, 900, 50), results4_train_E, 'r--')\n",
    "plt.axis([0, 900, 0, 0.4])\n",
    "\n",
    "# testing error curve\n",
    "plt.plot(range(50, 900, 50), results4_test_E, 'r--', color='green')\n",
    "plt.axis([0, 900, 0, 0.4])\n",
    "plt.legend(['Training Error', 'Testing Error'], loc='upper left')\n",
    "plt.title('Training & Testing Error vs. Number of Epoch')\n",
    "plt.xlabel('Number of Epoch')\n",
    "plt.ylabel('Error Rate')\n",
    "plt.text(380, 0.3, 'nodes = 4, lr = 0.01, l2_reg = 0.000001')\n",
    "plt.show()"
   ]
  },
  {
   "cell_type": "code",
   "execution_count": 2,
   "metadata": {
    "collapsed": true
   },
   "outputs": [],
   "source": [
    "results1_train_E = []\n",
    "results1_test_E = []\n",
    "for i in range(50, 900, 50):\n",
    "    results1_train_E.append(NN_epoch(n = 4, epoch = i, lr = 0.01, l2_reg = 0.0001)[0])\n",
    "    results1_test_E.append(NN_epoch(n = 4, epoch = i, lr = 0.01, l2_reg = 0.0001)[1])"
   ]
  },
  {
   "cell_type": "code",
   "execution_count": 13,
   "metadata": {},
   "outputs": [
    {
     "data": {
      "image/png": "[encoded data removed]",
      "text/plain": [
       "<matplotlib.figure.Figure at 0x7f85bfafa320>"
      ]
     },
     "metadata": {},
     "output_type": "display_data"
    }
   ],
   "source": [
    "# for n = 4, epoch = 50:900, lr = 0.01, l2_reg = 0.0001\n",
    "import matplotlib.pyplot as plt\n",
    "plt.plot(range(50, 900, 50), results1_train_E, 'r--')\n",
    "plt.axis([0, 900, 0, 0.4])\n",
    "\n",
    "# testing error curve\n",
    "plt.plot(range(50, 900, 50), results1_test_E, 'r--', color='green')\n",
    "plt.axis([0, 900, 0, 0.4])\n",
    "plt.legend(['Training Error', 'Testing Error'], loc='upper left')\n",
    "plt.title('Training & Testing Error vs. Number of Epoch')\n",
    "plt.xlabel('Number of Epoch')\n",
    "plt.ylabel('Error Rate')\n",
    "plt.text(380, 0.3, 'nodes = 4, lr = 0.01, l2_reg = 0.0001')\n",
    "plt.show()"
   ]
  },
  {
   "cell_type": "code",
   "execution_count": 14,
   "metadata": {
    "collapsed": true
   },
   "outputs": [],
   "source": [
    "results2_train_E = []\n",
    "results2_test_E = []\n",
    "for i in range(50, 900, 50):\n",
    "    results2_train_E.append(NN_epoch(n = 4, epoch = i, lr = 0.01, l2_reg = 0.001)[0])\n",
    "    results2_test_E.append(NN_epoch(n = 4, epoch = i, lr = 0.01, l2_reg = 0.001)[1])"
   ]
  },
  {
   "cell_type": "code",
   "execution_count": 16,
   "metadata": {},
   "outputs": [
    {
     "data": {
      "image/png": "[encoded data removed]",
      "text/plain": [
       "<matplotlib.figure.Figure at 0x7f85bfb192b0>"
      ]
     },
     "metadata": {},
     "output_type": "display_data"
    }
   ],
   "source": [
    "# for n = 4, epoch = 50:900, lr = 0.01, l2_reg = 0.001\n",
    "import matplotlib.pyplot as plt\n",
    "plt.plot(range(50, 900, 50), results2_train_E, 'r--')\n",
    "plt.axis([0, 900, 0, 0.5])\n",
    "\n",
    "# testing error curve\n",
    "plt.plot(range(50, 900, 50), results2_test_E, 'r--', color='green')\n",
    "plt.axis([0, 900, 0, 0.5])\n",
    "plt.legend(['Training Error', 'Testing Error'], loc='upper left')\n",
    "plt.title('Training & Testing Error vs. Number of Epoch')\n",
    "plt.xlabel('Number of Epoch')\n",
    "plt.ylabel('Error Rate')\n",
    "plt.text(380, 0.3, 'nodes = 4, lr = 0.01, l2_reg = 0.001')\n",
    "plt.show()"
   ]
  },
  {
   "cell_type": "code",
   "execution_count": 22,
   "metadata": {
    "collapsed": true
   },
   "outputs": [],
   "source": [
    "results3_train_E = []\n",
    "results3_test_E = []\n",
    "for i in range(50, 900, 50):\n",
    "    results3_train_E.append(NN_epoch(n = 4, epoch = i, lr = 0.01, l2_reg = 0.01)[0])\n",
    "    results3_test_E.append(NN_epoch(n = 4, epoch = i, lr = 0.01, l2_reg = 0.01)[1])"
   ]
  },
  {
   "cell_type": "code",
   "execution_count": 23,
   "metadata": {},
   "outputs": [
    {
     "data": {
      "image/png": "[encoded data removed]",
      "text/plain": [
       "<matplotlib.figure.Figure at 0x7f8cfcf65898>"
      ]
     },
     "metadata": {},
     "output_type": "display_data"
    }
   ],
   "source": [
    "# for n = 4, epoch = 50:900, lr = 0.01, l2_reg = 0.01\n",
    "import matplotlib.pyplot as plt\n",
    "plt.plot(range(50, 900, 50), results3_train_E, 'r--')\n",
    "plt.axis([0, 900, 0, 0.5])\n",
    "\n",
    "# testing error curve\n",
    "plt.plot(range(50, 900, 50), results3_test_E, 'r--', color='green')\n",
    "plt.axis([0, 900, 0, 0.5])\n",
    "plt.legend(['Training Error', 'Testing Error'], loc='upper left')\n",
    "plt.title('Training & Testing Error vs. Number of Epoch')\n",
    "plt.xlabel('Number of Epoch')\n",
    "plt.ylabel('Error Rate')\n",
    "plt.text(380, 0.3, 'nodes = 4, lr = 0.01, l2_reg = 0.01')\n",
    "plt.show()"
   ]
  },
  {
   "cell_type": "code",
   "execution_count": 35,
   "metadata": {
    "collapsed": true
   },
   "outputs": [],
   "source": [
    "# Question 1 Part c"
   ]
  },
  {
   "cell_type": "code",
   "execution_count": 27,
   "metadata": {
    "collapsed": true
   },
   "outputs": [],
   "source": [
    "results5_train_E = []\n",
    "results5_test_E = []\n",
    "for i in range(1, 200, 10):\n",
    "    results5_train_E.append(NN_epoch(n = i, epoch = 450, lr = 0.01, l2_reg = 0)[0])\n",
    "    results5_test_E.append(NN_epoch(n = i, epoch = 450, lr = 0.01, l2_reg = 0)[1])"
   ]
  },
  {
   "cell_type": "code",
   "execution_count": 28,
   "metadata": {},
   "outputs": [
    {
     "data": {
      "image/png": "[encoded data removed]",
      "text/plain": [
       "<matplotlib.figure.Figure at 0x7f6b862ebb70>"
      ]
     },
     "metadata": {},
     "output_type": "display_data"
    }
   ],
   "source": [
    "# for n = 1:100, epoch = 300, lr = 0.01, l2_reg = 0\n",
    "import matplotlib.pyplot as plt\n",
    "plt.plot(range(1, 200, 10), results5_train_E, 'r--')\n",
    "plt.axis([0, 200, 0, 0.5])\n",
    "\n",
    "# testing error curve\n",
    "plt.plot(range(1, 200, 10), results5_test_E, 'r--', color='green')\n",
    "plt.axis([0, 200, 0, 0.5])\n",
    "plt.legend(['Training Error', 'Testing Error'], loc='upper left')\n",
    "plt.title('Training & Testing Error vs. Number of Nodes')\n",
    "plt.xlabel('Number of Nodes')\n",
    "plt.ylabel('Error Rate')\n",
    "plt.text(60, 0.3, 'epoch = 200, lr = 0.01, l2_reg = 0')\n",
    "plt.show()\n",
    "\n",
    "# nodes= 10-20 seems better"
   ]
  },
  {
   "cell_type": "code",
   "execution_count": null,
   "metadata": {
    "collapsed": true
   },
   "outputs": [],
   "source": [
    "# Question 1 Part d\n",
    "# With no weight decay, the best model while fixing epoch = 300, lr = 0.01 is nodes = 10. This gives about 12% testing error. "
   ]
  },
  {
   "cell_type": "code",
   "execution_count": 4,
   "metadata": {
    "collapsed": true
   },
   "outputs": [],
   "source": [
    "# use nodes = 10 lr = 0.01 le_reg = 0 epoch = 300\n",
    "results_final1 = NN_epoch(n = 10, epoch = 300, lr = 0.01, l2_reg = 0)"
   ]
  },
  {
   "cell_type": "code",
   "execution_count": 14,
   "metadata": {},
   "outputs": [
    {
     "name": "stdout",
     "output_type": "stream",
     "text": [
      "111 24 1 39\n"
     ]
    }
   ],
   "source": [
    "ypred_test = results_final1[2]\n",
    "y00 = 0\n",
    "y01 = 0\n",
    "y10 = 0\n",
    "y11 = 0\n",
    "\n",
    "for j, h in enumerate(ypred_test):\n",
    "    if ypred_test[j] == 1:\n",
    "        if ypred_test[j] == np.ravel(testY)[j]:\n",
    "            y11 = y11 + 1\n",
    "        else: y10 = y10 + 1\n",
    "    else: \n",
    "        if ypred_test[j] == np.ravel(testY)[j]:\n",
    "            y00 = y00 + 1\n",
    "        else: y01 = y01 +1\n",
    "print(y00,y01,y10,y11)"
   ]
  },
  {
   "cell_type": "code",
   "execution_count": 33,
   "metadata": {},
   "outputs": [
    {
     "name": "stdout",
     "output_type": "stream",
     "text": [
      "Training Error for nodes = 10 lr = 0.01 le_reg = 0 epoch = 300 is 3.40909090909 %\n",
      "Training Accuracy for nodes = 10 lr = 0.01 le_reg = 0 epoch = 300 is 96.5909090909 %\n",
      "Testing Error for nodes = 10 lr = 0.01 le_reg = 0 epoch = 300 is 10.8571428571 %\n",
      "Testing Accuracy for nodes = 10 lr = 0.01 le_reg = 0 epoch = 300 is 89.1428571429 %\n"
     ]
    }
   ],
   "source": [
    "print('Training Error for nodes = 10 lr = 0.01 le_reg = 0 epoch = 300 is',results_final1[0] *100, \"%\")\n",
    "print('Training Accuracy for nodes = 10 lr = 0.01 le_reg = 0 epoch = 300 is',(1-results_final1[0])*100, \"%\")\n",
    "\n",
    "print('Testing Error for nodes = 10 lr = 0.01 le_reg = 0 epoch = 300 is',results_final1[1]*100, \"%\")\n",
    "print('Testing Accuracy for nodes = 10 lr = 0.01 le_reg = 0 epoch = 300 is',(1-results_final1[1])*100, \"%\")"
   ]
  },
  {
   "cell_type": "code",
   "execution_count": null,
   "metadata": {
    "collapsed": true
   },
   "outputs": [],
   "source": [
    "# With 0.000001 weight decay, the best model while fixing epoch = 500, lr = 0.01 is nodes = 10. This gives about 10% testing error. "
   ]
  },
  {
   "cell_type": "code",
   "execution_count": 103,
   "metadata": {
    "collapsed": true
   },
   "outputs": [],
   "source": [
    "results9_train_E = []\n",
    "results9_test_E = []\n",
    "for i in range(50, 900, 50):\n",
    "    results9_train_E.append(NN_epoch(n = 10, epoch = i, lr = 0.01, l2_reg =  0.000001)[0])\n",
    "    results9_test_E.append(NN_epoch(n = 10, epoch = i, lr = 0.01, l2_reg =  0.000001)[1])"
   ]
  },
  {
   "cell_type": "code",
   "execution_count": 106,
   "metadata": {},
   "outputs": [
    {
     "data": {
      "image/png": "[encoded data removed]",
      "text/plain": [
       "<matplotlib.figure.Figure at 0x7f85bfb2fc18>"
      ]
     },
     "metadata": {},
     "output_type": "display_data"
    }
   ],
   "source": [
    "# for n = 10, epoch = 50:900, lr = 0.01, l2_reg = 0.000001\n",
    "import matplotlib.pyplot as plt\n",
    "plt.plot(range(50, 900, 50), results9_train_E, 'r--')\n",
    "plt.axis([0, 900, 0, 0.4])\n",
    "\n",
    "# testing error curve\n",
    "plt.plot(range(50, 900, 50), results9_test_E, 'r--', color='green')\n",
    "plt.axis([0, 900, 0, 0.4])\n",
    "plt.legend(['Training Error', 'Testing Error'], loc='upper left')\n",
    "plt.title('Training & Testing Error vs. Number of Epoch')\n",
    "plt.xlabel('Number of Epoch')\n",
    "plt.ylabel('Error Rate')\n",
    "plt.text(380, 0.3, 'nodes = 10, lr = 0.01, l2_reg = 0.000001')\n",
    "plt.show()"
   ]
  },
  {
   "cell_type": "code",
   "execution_count": 20,
   "metadata": {},
   "outputs": [
    {
     "name": "stdout",
     "output_type": "stream",
     "text": [
      "Training Error for nodes = 10 lr = 0.01 le_reg = 0.000001 epoch = 500 is 2.27272727273 %\n",
      "Training Accuracy for nodes = 10 lr = 0.01 le_reg = 0.000001 epoch = 500 is 97.7272727273 %\n",
      "Testing Error for nodes = 10 lr = 0.01 le_reg = 0.000001 epoch = 500 is 10.8571428571 %\n",
      "Testing Accuracy for nodes = 10 lr = 0.01 le_reg = 0.000001 epoch = 500 is 89.1428571429 %\n"
     ]
    }
   ],
   "source": [
    "# use nodes = 10 lr = 0.01 le_reg = 0.000001 epoch = 300\n",
    "results_final2 = NN_epoch(n = 10, epoch = 500, lr = 0.01, l2_reg = 0.000001)\n",
    "\n",
    "print('Training Error for nodes = 10 lr = 0.01 le_reg = 0.000001 epoch = 500 is',results_final2[0] *100, \"%\")\n",
    "print('Training Accuracy for nodes = 10 lr = 0.01 le_reg = 0.000001 epoch = 500 is',(1-results_final2[0])*100, \"%\")\n",
    "\n",
    "print('Testing Error for nodes = 10 lr = 0.01 le_reg = 0.000001 epoch = 500 is',results_final2[1]*100, \"%\")\n",
    "print('Testing Accuracy for nodes = 10 lr = 0.01 le_reg = 0.000001 epoch = 500 is',(1-results_final2[1])*100, \"%\")"
   ]
  },
  {
   "cell_type": "code",
   "execution_count": 21,
   "metadata": {},
   "outputs": [
    {
     "name": "stdout",
     "output_type": "stream",
     "text": [
      "111 18 1 45\n"
     ]
    }
   ],
   "source": [
    "ypred_test = results_final2[2]\n",
    "y00 = 0\n",
    "y01 = 0\n",
    "y10 = 0\n",
    "y11 = 0\n",
    "\n",
    "for j, h in enumerate(ypred_test):\n",
    "    if ypred_test[j] == 1:\n",
    "        if ypred_test[j] == np.ravel(testY)[j]:\n",
    "            y11 = y11 + 1\n",
    "        else: y10 = y10 + 1\n",
    "    else: \n",
    "        if ypred_test[j] == np.ravel(testY)[j]:\n",
    "            y00 = y00 + 1\n",
    "        else: y01 = y01 +1\n",
    "print(y00,y01,y10,y11)"
   ]
  },
  {
   "cell_type": "code",
   "execution_count": null,
   "metadata": {
    "collapsed": true
   },
   "outputs": [],
   "source": [
    "# As we can see below, smaller l2_reg (i.e. 0.00000001), the testing error is larger"
   ]
  },
  {
   "cell_type": "code",
   "execution_count": 23,
   "metadata": {},
   "outputs": [
    {
     "name": "stdout",
     "output_type": "stream",
     "text": [
      "Training Error for nodes = 10 lr = 0.01 le_reg = 0.001 epoch = 500 is 2.27272727273 %\n",
      "Training Accuracy for nodes = 10 lr = 0.01 le_reg = 0.001 epoch = 500 is 97.7272727273 %\n",
      "Testing Error for nodes = 10 lr = 0.01 le_reg = 0.001 epoch = 500 is 13.7142857143 %\n",
      "Testing Accuracy for nodes = 10 lr = 0.01 le_reg = 0.001 epoch = 500 is 86.2857142857 %\n"
     ]
    }
   ],
   "source": [
    "# use nodes = 10 lr = 0.01 le_reg = 0.000001 epoch = 300\n",
    "rm1 = NN_epoch(n = 10, epoch = 500, lr = 0.01, l2_reg = 0.00000001)\n",
    "\n",
    "print('Training Error for nodes = 10 lr = 0.01 le_reg = 0.00000001 epoch = 500 is',rm1[0] *100, \"%\")\n",
    "print('Training Accuracy for nodes = 10 lr = 0.01 le_reg = 0.00000001 epoch = 500 is',(1-rm1[0])*100, \"%\")\n",
    "\n",
    "print('Testing Error for nodes = 10 lr = 0.01 le_reg =0.00000001 epoch = 500 is',rm1[1]*100, \"%\")\n",
    "print('Testing Accuracy for nodes = 10 lr = 0.01 le_reg = 0.00000001 epoch = 500 is',(1-rm1[1])*100, \"%\")"
   ]
  },
  {
   "cell_type": "code",
   "execution_count": 97,
   "metadata": {
    "collapsed": true
   },
   "outputs": [],
   "source": [
    "# Question 2 Part a "
   ]
  },
  {
   "cell_type": "code",
   "execution_count": 2,
   "metadata": {
    "collapsed": true
   },
   "outputs": [],
   "source": [
    "# Load data\n",
    "dfX = loadmat('ion.mat')['X'].T\n",
    "dfY = loadmat('ion.mat')['y']"
   ]
  },
  {
   "cell_type": "code",
   "execution_count": 3,
   "metadata": {},
   "outputs": [
    {
     "name": "stdout",
     "output_type": "stream",
     "text": [
      "Shape of phi_final matrix is (351, 4)\n",
      "Shape of Weights matrix is (2, 4)\n"
     ]
    },
    {
     "data": {
      "text/plain": [
       "0.13105413105413111"
      ]
     },
     "execution_count": 3,
     "metadata": {},
     "output_type": "execute_result"
    }
   ],
   "source": [
    "from sklearn.cluster import KMeans\n",
    "def RBF(m):\n",
    "    # K-means Clustering\n",
    "    kmeans = KMeans(n_clusters=m, random_state=0).fit(dfX)\n",
    "#    kmeans.labels_\n",
    "#    kmeans.cluster_centers_  # m by 34\n",
    "#    kmeans.inertia_ / len(dfX) # sigma^2\n",
    "    dfX_KM = np.concatenate((dfX,kmeans.labels_.reshape(351,1)),axis= 1)\n",
    "    \n",
    "    sigma2 = kmeans.inertia_ / len(dfX)\n",
    "    phi = np.zeros((1,m))\n",
    "    phi_final = np.zeros((351,m))\n",
    "    for i in range(0,351):\n",
    "        phi = np.zeros((1,m))\n",
    "        for j in range(0,m):\n",
    "            x = dfX[i] # 34 by 1\n",
    "            uj =  kmeans.cluster_centers_[j] # 34 by 1\n",
    "            rm = np.linalg.norm(x - uj)\n",
    "            phi[0,j] = np.exp(-(rm)/sigma2)\n",
    "        phi_final[i] = phi \n",
    "    print(\"Shape of phi_final matrix is\",phi_final.shape)\n",
    "    #phi_final.shape\n",
    "    #dfY.shape    \n",
    "    \n",
    "    dfY_c = np.zeros(shape = (0,2))\n",
    "    for i in range(0,351):\n",
    "        if dfY[i] == 0:\n",
    "            dfY_c = np.vstack([dfY_c,[1,0]])\n",
    "        if dfY[i] == 1:\n",
    "            dfY_c = np.vstack([dfY_c,[0,1]])  \n",
    "#    dfY_c.shape\n",
    "    \n",
    "    phi_final = phi_final.T\n",
    "    weights = (np.dot(np.linalg.inv(phi_final.dot(phi_final.T)).dot(phi_final),dfY_c)).T\n",
    "    print(\"Shape of Weights matrix is\",weights.shape)\n",
    "    \n",
    "    yhat_training = np.dot(weights, phi_final)\n",
    "    prediction_training_RBF = np.zeros(351)\n",
    "    \n",
    "    for i in range(351):\n",
    "        if yhat_training[0][i]  >= 0.50 or yhat_training[1][i] < 0.05:\n",
    "            prediction_training_RBF[i] = 0\n",
    "        else:\n",
    "            prediction_training_RBF[i] = 1\n",
    "    \n",
    "    # training error: 0.4757834757834758 m = 5\n",
    "    train_E_RBF = 1 - ((np.sum(prediction_training_RBF == np.ravel(dfY)))/ len(prediction_training_RBF))\n",
    "    return(train_E_RBF)\n",
    "\n",
    "# m = 4 Training Error = 0.13105413105413111\n",
    "Error = RBF(m= 4)\n",
    "Error"
   ]
  },
  {
   "cell_type": "code",
   "execution_count": null,
   "metadata": {
    "collapsed": true
   },
   "outputs": [],
   "source": [
    "# Question 2 Part b\n",
    "# 10-fold CV"
   ]
  },
  {
   "cell_type": "code",
   "execution_count": 27,
   "metadata": {
    "collapsed": true
   },
   "outputs": [],
   "source": [
    "def CV_10F(x, y, m, seed):\n",
    "    df = np.concatenate((x,y),axis =1)\n",
    "    random.seed(seed)\n",
    "    np.random.shuffle(df)\n",
    "    dfXa = df[:,0:34]\n",
    "    dfYa = df[:,-1]\n",
    "\n",
    "    a, b,c,d,e,f,g,h,i,j =  np.split(dfXa, [int(.1 * len(dfXa)), int(.2 * len(dfXa)),int(.3 * len(dfXa)), int(.4 * len(dfXa)),int(.5 * len(dfXa)), int(.6 * len(dfXa)),int(.7 * len(dfXa)), int(.8 * len(dfXa)),int(.9 * len(dfXa))])\n",
    "    \n",
    "    a = np.append(a, np.repeat(0,len(a)).reshape(len(a),1), 1)\n",
    "    b = np.append(b, np.repeat(1,len(b)).reshape(len(b),1), 1)\n",
    "    c = np.append(c, np.repeat(2,len(c)).reshape(len(c),1), 1)\n",
    "    d = np.append(d, np.repeat(3,len(d)).reshape(len(d),1), 1)\n",
    "    e = np.append(e, np.repeat(4,len(e)).reshape(len(e),1), 1)\n",
    "    f = np.append(f, np.repeat(5,len(f)).reshape(len(f),1), 1)\n",
    "    g = np.append(g, np.repeat(6,len(g)).reshape(len(g),1), 1)\n",
    "    h = np.append(h, np.repeat(7,len(h)).reshape(len(h),1), 1)\n",
    "    i = np.append(i, np.repeat(8,len(i)).reshape(len(i),1), 1)\n",
    "    j = np.append(j, np.repeat(9,len(j)).reshape(len(j),1), 1)\n",
    "    \n",
    "    dfX1 = np.concatenate((a, b,c,d,e,f,g,h,i,j)) # 351 by 35 where last column is fold labels\n",
    "    Errors = np.zeros(shape = (10,2))\n",
    "    \n",
    "    for k in range(0,10): \n",
    "        dfX_val = dfX1[np.where(dfX1[:,-1] == k)[0]]\n",
    "        dfX_val = np.delete(dfX_val, -1, 1)\n",
    "        \n",
    "        dfX_train = dfX1[np.where(dfX1[:,-1] != k)[0]]\n",
    "        dfX_train = np.delete(dfX_train, -1, 1)\n",
    "        \n",
    "        size_total = len(dfX1)\n",
    "        size_trin = len(dfX_train)\n",
    "        size_val = len(dfX_val)\n",
    "        \n",
    "        # K-means Clustering\n",
    "        kmeans = KMeans(n_clusters=m, random_state=0).fit(dfX_train)   \n",
    "        sigma2 = kmeans.inertia_ / len(dfX_train)\n",
    "        \n",
    "        phi_trin = np.zeros((1,m))\n",
    "        phi_trin_final = np.zeros((size_trin,m))\n",
    "        for i in range(0,size_trin):\n",
    "            phi_trin = np.zeros((1,m))\n",
    "            for j in range(0,m):\n",
    "                x = dfX_train[i] # 34 by 1\n",
    "                uj =  kmeans.cluster_centers_[j] # 34 by 1\n",
    "                rm = np.linalg.norm(x - uj)\n",
    "                phi_trin[0,j] = np.exp(-(rm)/sigma2)\n",
    "            phi_trin_final[i-size_val] = phi_trin \n",
    "#         print(\"Shape of phi_trin_final matrix is\",phi_trin_final.shape)\n",
    "        phi_trin_final = phi_trin_final.T\n",
    "    \n",
    "        dfY_trin = np.zeros(shape = (0,2))\n",
    "        for i in range(size_val,size_total):\n",
    "            if dfYa[i] == 0:\n",
    "                dfY_trin = np.vstack([dfY_trin,[1,0]])\n",
    "            if dfYa[i] == 1:\n",
    "                dfY_trin = np.vstack([dfY_trin,[0,1]])\n",
    "#         print(\"Shape of dfY_trin is\",dfY_trin.shape)\n",
    "    \n",
    "        \n",
    "        weights = (np.dot(np.linalg.inv(phi_trin_final.dot(phi_trin_final.T)).dot(phi_trin_final),dfY_trin)).T\n",
    "#         print(\"Shape of Weights matrix is\",weights.shape)\n",
    "        \n",
    "        #predict training set\n",
    "        yhat_training = np.dot(weights, phi_trin_final)\n",
    "        prediction_training_RBF = np.zeros(size_trin)\n",
    "        \n",
    "        for i in range(size_trin):\n",
    "            if yhat_training[0][i]  >= 0.50 or yhat_training[1][i] < 0.05:\n",
    "                prediction_training_RBF[i] = 0\n",
    "            else:\n",
    "                prediction_training_RBF[i] = 1\n",
    "        \n",
    "        # convert validation set's X into phi_val_final\n",
    "        phi_val = np.zeros((1,m))\n",
    "        phi_val_final = np.zeros((size_val,m))\n",
    "        for i in range(0,size_val):\n",
    "            phi_val = np.zeros((1,m))\n",
    "            for j in range(0,m):\n",
    "                x = dfX_val[i] # 34 by 1\n",
    "                uj =  kmeans.cluster_centers_[j] # 34 by 1\n",
    "                rm = np.linalg.norm(x - uj)\n",
    "                phi_val[0,j] = np.exp(-(rm)/sigma2)\n",
    "            phi_val_final[i] = phi_val \n",
    "#         print(\"Shape of phi_val_final matrix is\",phi_val_final.shape)\n",
    "        phi_val_final = phi_val_final.T\n",
    "        \n",
    "        dfY_val = np.zeros(shape = (0,2))\n",
    "        for i in range(0,size_val):\n",
    "            if dfYa[i] == 0:\n",
    "                dfY_val = np.vstack([dfY_val,[1,0]])\n",
    "            if dfYa[i] == 1:\n",
    "                dfY_val = np.vstack([dfY_val,[0,1]])  \n",
    "                 \n",
    "        # predict on validation set\n",
    "        yhat_testing = np.dot(weights, phi_val_final)\n",
    "        prediction_testing_RBF = np.zeros(size_val)\n",
    "        \n",
    "        for i in range(size_val):\n",
    "            if yhat_testing[0][i]  >= 0.50 or yhat_testing[1][i] < 0.05:\n",
    "                prediction_testing_RBF[i] = 0\n",
    "            else:\n",
    "                prediction_testing_RBF[i] = 1\n",
    "        \n",
    "        # training error: 0.4757834757834758 m = 5\n",
    "        Errors[k][0] = 1 - ((np.sum(prediction_training_RBF == np.ravel(dfYa[size_val:size_total])))/ len(prediction_training_RBF))\n",
    "        Errors[k][1]  = 1 - ((np.sum(prediction_testing_RBF == np.ravel(dfYa[0:size_val])))/ len(prediction_testing_RBF))\n",
    "    return(Errors)"
   ]
  },
  {
   "cell_type": "code",
   "execution_count": 32,
   "metadata": {},
   "outputs": [
    {
     "name": "stdout",
     "output_type": "stream",
     "text": [
      "Training Error for 10-Fold CV with m = 7 is 0.2946644565\n",
      "Testing Error for 10-Fold CV with m = 7 is 0.350396825397\n",
      "Training Error for 10-Fold CV with m = 5 is 0.27980008037\n",
      "Testing Error for 10-Fold CV with m = 5 is 0.435476190476\n",
      "Training Error for 10-Fold CV with m = 4 is 0.295621860559\n",
      "Testing Error for 10-Fold CV with m = 4 is 0.46119047619\n",
      "Training Error for 10-Fold CV with m = 3 is 0.33424954792\n",
      "Testing Error for 10-Fold CV with m = 3 is 0.367380952381\n",
      "Training Error for 10-Fold CV with m = 2 is 0.35738798473\n",
      "Testing Error for 10-Fold CV with m = 2 is 0.373095238095\n"
     ]
    }
   ],
   "source": [
    "# 10 Fold CV Training and Testing errors for each fold\n",
    "# these results are unstable but my answers in the table are based on the following results: \n",
    "# choose number of basis function that yield the lowest testing error, which in this case is m=4\n",
    "cv10_error_m5 = CV_10F(x=dfX, y=dfY, m=5, seed=1234)\n",
    "print('Training Error for 10-Fold CV with m = 5 is',np.mean(cv10_error_m5[:,0]))\n",
    "print('Testing Error for 10-Fold CV with m = 5 is',np.mean(cv10_error_m5[:,1]))\n",
    "\n",
    "cv10_error_m4 = CV_10F(x=dfX, y=dfY, m=4, seed=1234)\n",
    "print('Training Error for 10-Fold CV with m = 4 is',np.mean(cv10_error_m4[:,0]))\n",
    "print('Testing Error for 10-Fold CV with m = 4 is',np.mean(cv10_error_m4[:,1]))\n",
    "\n",
    "\n",
    "cv10_error_m3 = CV_10F(x=dfX, y=dfY, m=3, seed=1234)\n",
    "print('Training Error for 10-Fold CV with m = 3 is',np.mean(cv10_error_m3[:,0]))\n",
    "print('Testing Error for 10-Fold CV with m = 3 is',np.mean(cv10_error_m3[:,1]))\n",
    "\n",
    "cv10_error_m2 = CV_10F(x=dfX, y=dfY, m=2, seed=1234)\n",
    "print('Training Error for 10-Fold CV with m = 2 is',np.mean(cv10_error_m2[:,0]))\n",
    "print('Testing Error for 10-Fold CV with m = 2 is',np.mean(cv10_error_m2[:,1]))\n"
   ]
  },
  {
   "cell_type": "code",
   "execution_count": null,
   "metadata": {
    "collapsed": true
   },
   "outputs": [],
   "source": [
    "# Question 2 Part b LOO"
   ]
  },
  {
   "cell_type": "code",
   "execution_count": 8,
   "metadata": {
    "collapsed": true
   },
   "outputs": [],
   "source": [
    "def LOO(x,y,m,seed):\n",
    "    # randomly shuffle dataset before doing LOO\n",
    "    df = np.concatenate((x,y),axis =1)\n",
    "    random.seed(seed)\n",
    "    np.random.shuffle(df)\n",
    "    dfXa = df[:,0:34]\n",
    "    dfYa = df[:,-1]\n",
    "    \n",
    "    Errors_LOO = np.zeros(shape = (351,2))\n",
    "    \n",
    "    for k in range(0,351): \n",
    "        dfX_val = dfXa[k,:]\n",
    "        dfX_train = dfXa[np.arange(len(dfXa))!=k]\n",
    "      \n",
    "        size_total = len(dfXa)\n",
    "        size_trin = len(dfX_train)\n",
    "        size_val = 1\n",
    "        \n",
    "        # K-means Clustering\n",
    "        kmeans = KMeans(n_clusters=m, random_state=0).fit(dfX_train)   \n",
    "        sigma2 = kmeans.inertia_ / len(dfX_train)\n",
    "        \n",
    "        phi_trin = np.zeros((1,m))\n",
    "        phi_trin_final = np.zeros((size_trin,m))\n",
    "        for i in range(0,size_trin):\n",
    "            phi_trin = np.zeros((1,m))\n",
    "            for j in range(0,m):\n",
    "                x = dfX_train[i] # 34 by 1\n",
    "                uj =  kmeans.cluster_centers_[j] # 34 by 1\n",
    "                rm = np.linalg.norm(x - uj)\n",
    "                phi_trin[0,j] = np.exp(-(rm)/sigma2)\n",
    "            phi_trin_final[i-size_val] = phi_trin \n",
    "#         print(\"Shape of phi_trin_final matrix is\",phi_trin_final.shape)\n",
    "        phi_trin_final = phi_trin_final.T\n",
    "    \n",
    "        dfY_trin = np.zeros(shape = (0,2))\n",
    "        for i in range(size_val,size_total):\n",
    "            if dfYa[i] == 0:\n",
    "                dfY_trin = np.vstack([dfY_trin,[1,0]])\n",
    "            if dfYa[i] == 1:\n",
    "                dfY_trin = np.vstack([dfY_trin,[0,1]])\n",
    "#         print(\"Shape of dfY_trin is\",dfY_trin.shape)\n",
    "    \n",
    "        \n",
    "        weights = (np.dot(np.linalg.inv(phi_trin_final.dot(phi_trin_final.T)).dot(phi_trin_final),dfY_trin)).T\n",
    "#         print(\"Shape of Weights matrix is\",weights.shape)\n",
    "        \n",
    "        #predict training set\n",
    "        yhat_training = np.dot(weights, phi_trin_final)\n",
    "        prediction_training_RBF = np.zeros(size_trin)\n",
    "        \n",
    "        for i in range(size_trin):\n",
    "            if yhat_training[0][i]  >= 0.50 or yhat_training[1][i] < 0.05:\n",
    "                prediction_training_RBF[i] = 0\n",
    "            else:\n",
    "                prediction_training_RBF[i] = 1\n",
    "        \n",
    "        # convert validation set's X into phi_val_final\n",
    "        phi_val = np.zeros((1,m))\n",
    "        phi_val_final = np.zeros((size_val,m))\n",
    "        for i in range(0,size_val):\n",
    "            phi_val = np.zeros((1,m))\n",
    "            for j in range(0,m):\n",
    "                x = dfX_val[i] # 34 by 1\n",
    "                uj =  kmeans.cluster_centers_[j] # 34 by 1\n",
    "                rm = np.linalg.norm(x - uj)\n",
    "                phi_val[0,j] = np.exp(-(rm)/sigma2)\n",
    "            phi_val_final[i] = phi_val \n",
    "#         print(\"Shape of phi_val_final matrix is\",phi_val_final.shape)\n",
    "        phi_val_final = phi_val_final.T\n",
    "        \n",
    "        dfY_val = np.zeros(shape = (0,2))\n",
    "        for i in range(0,size_val):\n",
    "            if dfYa[i] == 0:\n",
    "                dfY_val = np.vstack([dfY_val,[1,0]])\n",
    "            if dfYa[i] == 1:\n",
    "                dfY_val = np.vstack([dfY_val,[0,1]])  \n",
    "                 \n",
    "        # predict on validation set\n",
    "        yhat_testing = np.dot(weights, phi_val_final)\n",
    "        prediction_testing_RBF = np.zeros(size_val)\n",
    "        \n",
    "        for i in range(size_val):\n",
    "            if yhat_testing[0][i]  >= 0.50 or yhat_testing[1][i] < 0.05:\n",
    "                prediction_testing_RBF[i] = 0\n",
    "            else:\n",
    "                prediction_testing_RBF[i] = 1\n",
    "        \n",
    "        # training error& testing error\n",
    "        Errors_LOO[k][0] = 1 - ((np.sum(prediction_training_RBF == np.ravel(dfYa[size_val:size_total])))/ len(prediction_training_RBF))\n",
    "        Errors_LOO[k][1]  = 1 - ((np.sum(prediction_testing_RBF == np.ravel(dfYa[0:size_val])))/ len(prediction_testing_RBF))\n",
    "    return(Errors_LOO)\n",
    "\n"
   ]
  },
  {
   "cell_type": "code",
   "execution_count": 12,
   "metadata": {},
   "outputs": [
    {
     "name": "stdout",
     "output_type": "stream",
     "text": [
      "Training Error for LOOCV with m = 2 is 0.357720797721\n",
      "Testing Error for LOOCV with m = 2 is 0.524216524217\n",
      "Training Error for LOOCV with m = 3 is 0.292055352055\n",
      "Testing Error for LOOCV with m = 3 is 0.578347578348\n",
      "Training Error for LOOCV with m = 4 is 0.278201058201\n",
      "Testing Error for LOOCV with m = 4 is 0.165242165242\n",
      "Training Error for LOOCV with m = 5 is 0.260170940171\n",
      "Testing Error for LOOCV with m = 5 is 0.19943019943\n"
     ]
    }
   ],
   "source": [
    "# these results are unstable but my answers in the table for LOO are based on the following results: \n",
    "# choose number of basis function that yield the lowest testing error, which in this case is m=4\n",
    "Errors_LOO_m2 = LOO(x=dfX,y=dfY,m=2,seed=1234)\n",
    "print('Training Error for LOOCV with m = 2 is',np.mean(Errors_LOO_m2[:,0]))\n",
    "print('Testing Error for LOOCV with m = 2 is',np.mean(Errors_LOO_m2[:,1]))\n",
    "\n",
    "\n",
    "Errors_LOO_m3 = LOO(x=dfX,y=dfY,m=3,seed=1234)\n",
    "print('Training Error for LOOCV with m = 3 is',np.mean(Errors_LOO_m3[:,0]))\n",
    "print('Testing Error for LOOCV with m = 3 is',np.mean(Errors_LOO_m3[:,1]))\n",
    "\n",
    "\n",
    "Errors_LOO_m4 = LOO(x=dfX,y=dfY,m=4,seed=1234)\n",
    "print('Training Error for LOOCV with m = 4 is',np.mean(Errors_LOO_m4[:,0]))\n",
    "print('Testing Error for LOOCV with m = 4 is',np.mean(Errors_LOO_m4[:,1]))\n",
    "\n",
    "Errors_LOO_m5 = LOO(x=dfX,y=dfY,m=5,seed=1234)\n",
    "print('Training Error for LOOCV with m = 5 is',np.mean(Errors_LOO_m5[:,0]))\n",
    "print('Testing Error for LOOCV with m = 5 is',np.mean(Errors_LOO_m5[:,1]))\n"
   ]
  },
  {
   "cell_type": "code",
   "execution_count": 13,
   "metadata": {
    "collapsed": true
   },
   "outputs": [],
   "source": [
    "# Question 2 part b CLOO"
   ]
  },
  {
   "cell_type": "code",
   "execution_count": 34,
   "metadata": {
    "collapsed": true
   },
   "outputs": [],
   "source": [
    "# k is the index of the point we want to leave out; it can be any number between 0 & number of observations in the dataset (= 351)\n",
    "def CLOO(x, y, m, seed, k):\n",
    "    dfXa = x\n",
    "    dfYa = y\n",
    "    \n",
    "    # because of 1 row of zero in dfX that will cause invertibility when calculating H matrix, I removed it during CLOO    \n",
    "    dfXa = np.delete(dfXa, 1, 1)\n",
    "    H = (dfXa.dot(np.linalg.inv(np.transpose(dfXa).dot(dfXa))).dot(dfXa.T))[k,k]\n",
    "  \n",
    "    dfX_val = dfXa[k,:]\n",
    "    dfY_val = dfYa[k]\n",
    "\n",
    "      \n",
    "    size_total = len(dfXa)\n",
    "#    size_trin = len(dfX_train)\n",
    "#    size_val = 1\n",
    "    \n",
    "    # training model/weights based on all Xi's\n",
    "    # K-means Clustering\n",
    "    kmeans = KMeans(n_clusters=m, random_state=0).fit(dfXa)   \n",
    "    sigma2 = kmeans.inertia_ / len(dfXa)\n",
    "    \n",
    "    phi_trin = np.zeros((1,m))\n",
    "    phi_trin_final = np.zeros((size_total,m))\n",
    "    for i in range(0,size_total):\n",
    "        phi_trin = np.zeros((1,m))\n",
    "        for j in range(0,m):\n",
    "            x = dfXa[i] # 34 by 1\n",
    "            uj =  kmeans.cluster_centers_[j] # 34 by 1\n",
    "            rm = np.linalg.norm(x - uj)\n",
    "            phi_trin[0,j] = np.exp(-(rm)/sigma2)\n",
    "        phi_trin_final[i] = phi_trin \n",
    "#     print(\"Shape of phi_trin_final matrix is\",phi_trin_final.shape)\n",
    "    phi_trin_final = phi_trin_final.T\n",
    "\n",
    "    dfY_trin = np.zeros(shape = (0,2))\n",
    "    for i in range(0,size_total):\n",
    "        if dfYa[i] == 0:\n",
    "            dfY_trin = np.vstack([dfY_trin,[1,0]])\n",
    "        if dfYa[i] == 1:\n",
    "            dfY_trin = np.vstack([dfY_trin,[0,1]])\n",
    "#     print(\"Shape of dfY_trin is\",dfY_trin.shape)\n",
    "\n",
    "    \n",
    "    weights = (np.dot(np.linalg.inv(phi_trin_final.dot(phi_trin_final.T)).dot(phi_trin_final),dfY_trin)).T\n",
    "#     print(\"Shape of Weights matrix is\",weights.shape)\n",
    "    \n",
    "    #predict kth observation using weights obtained above\n",
    "    # covert kth datapoint to phi_val\n",
    "    phi_val = np.zeros((1,m))\n",
    "    phi_val_final = np.zeros((1,m))\n",
    "    for i in range(0,1):\n",
    "        phi_val = np.zeros((1,m))\n",
    "        for j in range(0,m):\n",
    "            x = dfX_val[i] # 34 by 1\n",
    "            uj =  kmeans.cluster_centers_[j] # 34 by 1\n",
    "            rm = np.linalg.norm(x - uj)\n",
    "            phi_val[0,j] = np.exp(-(rm)/sigma2)\n",
    "        phi_val_final[i] = phi_val \n",
    "#     print(\"Shape of phi_val_final matrix is\",phi_val_final.shape)\n",
    "    phi_val_final = phi_val_final.T\n",
    "    \n",
    "    dfY_val = np.zeros(shape = (0,2))\n",
    "    for i in range(0,1):\n",
    "        if dfYa[i] == 0:\n",
    "            dfY_val = np.vstack([dfY_val,[1,0]])\n",
    "        if dfYa[i] == 1:\n",
    "            dfY_val = np.vstack([dfY_val,[0,1]])  \n",
    "    \n",
    "    yhat_training = np.dot(weights, phi_val_final)\n",
    "    prediction_training_RBF = np.zeros(1)\n",
    "    \n",
    "    for i in range(1):\n",
    "        if yhat_training[0][i]  >= 0.50 or yhat_training[1][i] < 0.05:\n",
    "            prediction_training_RBF[i] = 0\n",
    "        else:\n",
    "            prediction_training_RBF[i] = 1\n",
    "\n",
    "  \n",
    "    Error_CLOO = (dfYa[k] -prediction_training_RBF)/(1-H)\n",
    "    return(Error_CLOO)"
   ]
  },
  {
   "cell_type": "code",
   "execution_count": 37,
   "metadata": {},
   "outputs": [
    {
     "name": "stdout",
     "output_type": "stream",
     "text": [
      "The Error calculated using CLOO 25.0712250712 %\n"
     ]
    }
   ],
   "source": [
    "Error_CLOO_final = np.zeros(shape=(1,351))    \n",
    "for i in range(0,351):\n",
    "    Error_CLOO_final[0][i] = CLOO(x=dfX, y=dfY, m=4, seed=1234, k=i)\n",
    "print('The Error calculated using CLOO',(np.sum(Error_CLOO_final != 0)/351)*100, \"%\")"
   ]
  }
 ],
 "metadata": {
  "kernelspec": {
   "display_name": "Python 3",
   "language": "python",
   "name": "python3"
  },
  "language_info": {
   "codemirror_mode": {
    "name": "ipython",
    "version": 3
   },
   "file_extension": ".py",
   "mimetype": "text/x-python",
   "name": "python",
   "nbconvert_exporter": "python",
   "pygments_lexer": "ipython3",
   "version": "3.5.2"
  }
 },
 "nbformat": 4,
 "nbformat_minor": 2
}
